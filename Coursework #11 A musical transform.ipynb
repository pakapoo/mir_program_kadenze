{
  "cells": [
    {
      "cell_type": "code",
      "execution_count": 1,
      "metadata": {
        "trusted": true
      },
      "outputs": [],
      "source": [
        "import numpy as np\n",
        "def pedagogical_dft(x, N):\n",
        "    # array holding the real parts of the spectrum\n",
        "    Xre = np.zeros(N)\n",
        "    # array holding the imaginary values of the spectru \n",
        "    Xim = np.zeros(N)\n",
        "    for k in np.arange(0,N):\n",
        "        for t in np.arange(0,N):\n",
        "            #inner product with real basis k\n",
        "            Xre[k] += x[t] * np.cos(t * k * 2 * np.pi / N) \n",
        "            #inner product with imaginary basis k\n",
        "            Xim[k] += x [t] * np.sin(t*k *2 * np.pi / N ) \n",
        "    return (Xre, Xim)"
      ]
    }
  ],
  "metadata": {
    "kernelspec": {
      "display_name": "Python 3",
      "language": "python",
      "name": "python3"
    },
    "language_info": {
      "codemirror_mode": {
        "name": "ipython",
        "version": 3
      },
      "file_extension": ".py",
      "mimetype": "text/x-python",
      "name": "python",
      "nbconvert_exporter": "python",
      "pygments_lexer": "ipython3",
      "version": "3.11.1"
    },
    "vscode": {
      "interpreter": {
        "hash": "5c7b89af1651d0b8571dde13640ecdccf7d5a6204171d6ab33e7c296e100e08a"
      }
    }
  },
  "nbformat": 4,
  "nbformat_minor": 4
}
